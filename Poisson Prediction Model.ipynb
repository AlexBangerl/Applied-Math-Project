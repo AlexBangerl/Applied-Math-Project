{
 "cells": [
  {
   "cell_type": "markdown",
   "metadata": {},
   "source": [
    "## Soccer Results Prediction - Poisson Model"
   ]
  },
  {
   "cell_type": "markdown",
   "metadata": {},
   "source": [
    "source: https://dashee87.github.io/football/python/predicting-football-results-with-statistical-modelling/"
   ]
  },
  {
   "cell_type": "code",
   "execution_count": 1,
   "metadata": {
    "collapsed": true
   },
   "outputs": [],
   "source": [
    "import pandas as pd\n",
    "import matplotlib.pyplot as plt\n",
    "import numpy as np\n",
    "import seaborn\n",
    "from scipy.stats import poisson,skellam"
   ]
  },
  {
   "cell_type": "code",
   "execution_count": 2,
   "metadata": {},
   "outputs": [
    {
     "data": {
      "text/html": [
       "<div>\n",
       "<style>\n",
       "    .dataframe thead tr:only-child th {\n",
       "        text-align: right;\n",
       "    }\n",
       "\n",
       "    .dataframe thead th {\n",
       "        text-align: left;\n",
       "    }\n",
       "\n",
       "    .dataframe tbody tr th {\n",
       "        vertical-align: top;\n",
       "    }\n",
       "</style>\n",
       "<table border=\"1\" class=\"dataframe\">\n",
       "  <thead>\n",
       "    <tr style=\"text-align: right;\">\n",
       "      <th></th>\n",
       "      <th>HomeTeam</th>\n",
       "      <th>AwayTeam</th>\n",
       "      <th>HomeGoals</th>\n",
       "      <th>AwayGoals</th>\n",
       "      <th>Winner</th>\n",
       "    </tr>\n",
       "  </thead>\n",
       "  <tbody>\n",
       "    <tr>\n",
       "      <th>0</th>\n",
       "      <td>Burnley</td>\n",
       "      <td>Swansea</td>\n",
       "      <td>0</td>\n",
       "      <td>1</td>\n",
       "      <td>A</td>\n",
       "    </tr>\n",
       "    <tr>\n",
       "      <th>1</th>\n",
       "      <td>Crystal Palace</td>\n",
       "      <td>West Brom</td>\n",
       "      <td>0</td>\n",
       "      <td>1</td>\n",
       "      <td>A</td>\n",
       "    </tr>\n",
       "    <tr>\n",
       "      <th>2</th>\n",
       "      <td>Everton</td>\n",
       "      <td>Tottenham</td>\n",
       "      <td>1</td>\n",
       "      <td>1</td>\n",
       "      <td>D</td>\n",
       "    </tr>\n",
       "    <tr>\n",
       "      <th>3</th>\n",
       "      <td>Hull</td>\n",
       "      <td>Leicester</td>\n",
       "      <td>2</td>\n",
       "      <td>1</td>\n",
       "      <td>H</td>\n",
       "    </tr>\n",
       "    <tr>\n",
       "      <th>4</th>\n",
       "      <td>Man City</td>\n",
       "      <td>Sunderland</td>\n",
       "      <td>2</td>\n",
       "      <td>1</td>\n",
       "      <td>H</td>\n",
       "    </tr>\n",
       "  </tbody>\n",
       "</table>\n",
       "</div>"
      ],
      "text/plain": [
       "         HomeTeam    AwayTeam  HomeGoals  AwayGoals Winner\n",
       "0         Burnley     Swansea          0          1      A\n",
       "1  Crystal Palace   West Brom          0          1      A\n",
       "2         Everton   Tottenham          1          1      D\n",
       "3            Hull   Leicester          2          1      H\n",
       "4        Man City  Sunderland          2          1      H"
      ]
     },
     "execution_count": 2,
     "metadata": {},
     "output_type": "execute_result"
    }
   ],
   "source": [
    "epl_1617 = pd.read_csv(\"http://www.football-data.co.uk/mmz4281/1617/E0.csv\")\n",
    "epl_1617 = epl_1617[['HomeTeam','AwayTeam','FTHG','FTAG', 'FTR']]\n",
    "epl_1617 = epl_1617.rename(columns={'FTHG': 'HomeGoals', 'FTAG': 'AwayGoals' , 'FTR' : 'Winner'})\n",
    "epl_1617.head()"
   ]
  },
  {
   "cell_type": "markdown",
   "metadata": {},
   "source": [
    "We use all the games from season 16/17 until the last 10 games to calculate the average goals of a team and the last 10 games we will try to predict."
   ]
  },
  {
   "cell_type": "code",
   "execution_count": 3,
   "metadata": {},
   "outputs": [
    {
     "data": {
      "text/plain": [
       "HomeGoals    1.591892\n",
       "AwayGoals    1.183784\n",
       "dtype: float64"
      ]
     },
     "execution_count": 3,
     "metadata": {},
     "output_type": "execute_result"
    }
   ],
   "source": [
    "epl_1617 = epl_1617[:-10]\n",
    "epl_1617.mean()"
   ]
  },
  {
   "cell_type": "code",
   "execution_count": 4,
   "metadata": {},
   "outputs": [
    {
     "data": {
      "text/plain": [
       "0.24809376810717076"
      ]
     },
     "execution_count": 4,
     "metadata": {},
     "output_type": "execute_result"
    }
   ],
   "source": [
    "# probability of draw between home and away team\n",
    "skellam.pmf(0.0,  epl_1617.mean()[0],  epl_1617.mean()[1])"
   ]
  },
  {
   "cell_type": "code",
   "execution_count": 5,
   "metadata": {},
   "outputs": [
    {
     "data": {
      "text/plain": [
       "0.22706765807563964"
      ]
     },
     "execution_count": 5,
     "metadata": {},
     "output_type": "execute_result"
    }
   ],
   "source": [
    "# probability of home team winning by one goal\n",
    "skellam.pmf(1,  epl_1617.mean()[0],  epl_1617.mean()[1])"
   ]
  },
  {
   "cell_type": "code",
   "execution_count": 6,
   "metadata": {},
   "outputs": [
    {
     "data": {
      "text/plain": [
       "0.14180866650031265"
      ]
     },
     "execution_count": 6,
     "metadata": {},
     "output_type": "execute_result"
    }
   ],
   "source": [
    "# probability of home team winning by two goals\n",
    "skellam.pmf(2,  epl_1617.mean()[0],  epl_1617.mean()[1])"
   ]
  },
  {
   "cell_type": "markdown",
   "metadata": {},
   "source": [
    "Since we are assuming that the number of goals scored by each team are independent events. Therefore, each event has its own Poisson distribution and the difference of two Poisson distributions is a Skellam distribution, which we ae using to model the results in the follwoing cell."
   ]
  },
  {
   "cell_type": "code",
   "execution_count": 7,
   "metadata": {},
   "outputs": [
    {
     "data": {
      "image/png": "[encoded data removed]",
      "text/plain": [
       "<matplotlib.figure.Figure at 0x10e85dc50>"
      ]
     },
     "metadata": {},
     "output_type": "display_data"
    }
   ],
   "source": [
    "skellam_pred = [skellam.pmf(i,  epl_1617.mean()[0],  epl_1617.mean()[1]) for i in range(-6,8)]\n",
    "\n",
    "plt.hist(epl_1617[['HomeGoals']].values - epl_1617[['AwayGoals']].values, range(-6,8), \n",
    "         alpha=0.5, label='Actual',normed=True)\n",
    "plt.plot([i+0.5 for i in range(-6,8)], skellam_pred,\n",
    "                  linestyle='-', marker='o',label=\"Skellam\", color = 'r')\n",
    "plt.legend(loc='upper right', fontsize=15)\n",
    "plt.xticks([i+0.5 for i in range(-6,8)],[i for i in range(-6,8)])\n",
    "plt.xlabel(\"Home Goals - Away Goals\",size=13)\n",
    "plt.ylabel(\"Proportion of Matches\",size=13)\n",
    "plt.title(\"Difference in Goals Scored (Home Team vs Away Team)\",size=14,fontweight='bold')\n",
    "plt.ylim([-0.004, 0.26])\n",
    "plt.tight_layout()\n",
    "plt.show()"
   ]
  },
  {
   "cell_type": "markdown",
   "metadata": {},
   "source": [
    "The way this works is the we have to figure out the average goals scored by each team and feed this into the Poisson model. We assume that the number of goals scored by each team is Poisson distributed. To show that we can model the goals scored in season 16/17 by two teams in this case Chelsea and West Brom. We seperate the data into goals scored home and away."
   ]
  },
  {
   "cell_type": "code",
   "execution_count": 8,
   "metadata": {},
   "outputs": [
    {
     "data": {
      "image/png": "[encoded data removed]",
      "text/plain": [
       "<matplotlib.figure.Figure at 0x11e5b1390>"
      ]
     },
     "metadata": {},
     "output_type": "display_data"
    }
   ],
   "source": [
    "fig,(ax1,ax2) = plt.subplots(2, 1)\n",
    "\n",
    "\n",
    "chel_home = epl_1617[epl_1617['HomeTeam']=='Chelsea'][['HomeGoals']].apply(pd.value_counts,normalize=True)\n",
    "chel_home_pois = [poisson.pmf(i,np.sum(np.multiply(chel_home.values.T,chel_home.index.T),axis=1)[0]) for i in range(8)]\n",
    "sun_home = epl_1617[epl_1617['HomeTeam']=='West Brom'][['HomeGoals']].apply(pd.value_counts,normalize=True)\n",
    "sun_home_pois = [poisson.pmf(i,np.sum(np.multiply(sun_home.values.T,sun_home.index.T),axis=1)[0]) for i in range(8)]\n",
    "\n",
    "chel_away = epl_1617[epl_1617['AwayTeam']=='Chelsea'][['AwayGoals']].apply(pd.value_counts,normalize=True)\n",
    "chel_away_pois = [poisson.pmf(i,np.sum(np.multiply(chel_home.values.T,chel_home.index.T),axis=1)[0]) for i in range(8)]\n",
    "sun_away = epl_1617[epl_1617['AwayTeam']=='Sunderland'][['AwayGoals']].apply(pd.value_counts,normalize=True)\n",
    "sun_away_pois = [poisson.pmf(i,np.sum(np.multiply(sun_home.values.T,sun_home.index.T),axis=1)[0]) for i in range(8)]\n",
    "\n",
    "ax1.bar(chel_home.index-0.4,chel_home.values,width=0.4,color=\"b\",label=\"Chelsea\")\n",
    "ax1.bar(sun_home.index,sun_home.values,width=0.4,color=\"r\",label=\"West Brom\")\n",
    "pois1, = ax1.plot([i for i in range(8)], chel_home_pois,\n",
    "                  linestyle='-', marker='o',label=\"Chelsea\", color = \"b\")\n",
    "pois1, = ax1.plot([i for i in range(8)], sun_home_pois,\n",
    "                  linestyle='-', marker='o',label=\"Sunderland\", color = \"r\")\n",
    "leg=ax1.legend(loc='upper right', fontsize=12, ncol=2)\n",
    "leg.set_title(\"Poisson                 Actual                \", prop = {'size':'14', 'weight':'bold'})\n",
    "ax1.set_xlim([-0.5,7.5])\n",
    "ax1.set_ylim([-0.01,0.65])\n",
    "ax1.set_xticklabels([])\n",
    "ax1.text(7.65, 0.585, '                Home                ', rotation=-90,\n",
    "        bbox={'facecolor':'g', 'alpha':0.3, 'pad':5})\n",
    "ax2.text(7.65, 0.585, '                Away                ', rotation=-90,\n",
    "        bbox={'facecolor':'g', 'alpha':0.3, 'pad':5})\n",
    "\n",
    "ax2.bar(chel_away.index-0.4,chel_away.values,width=0.4,color=\"b\",label=\"Chelsea\")\n",
    "ax2.bar(sun_away.index,sun_away.values,width=0.4,color=\"r\",label=\"Sunderland\")\n",
    "pois1, = ax2.plot([i for i in range(8)], chel_away_pois,\n",
    "                  linestyle='-', marker='o',label=\"Chelsea\", color = \"b\")\n",
    "pois1, = ax2.plot([i for i in range(8)], sun_away_pois,\n",
    "                  linestyle='-', marker='o',label=\"Sunderland\", color = \"r\")\n",
    "ax2.set_xlim([-0.5,7.5])\n",
    "ax2.set_ylim([-0.01,0.65])\n",
    "ax1.set_title(\"Number of Goals per Match (EPL 2016/17 Season)\",size=14,fontweight='bold')\n",
    "ax2.set_xlabel(\"Goals per Match\",size=13)\n",
    "ax2.text(-1.15, 0.9, 'Proportion of Matches', rotation=90, size=13)\n",
    "plt.tight_layout()\n",
    "plt.show()"
   ]
  },
  {
   "cell_type": "markdown",
   "metadata": {},
   "source": [
    "The graph above proves our assumption that the goals scored by a team are roughly Poisson distributed. "
   ]
  },
  {
   "cell_type": "markdown",
   "metadata": {},
   "source": [
    "## The model"
   ]
  },
  {
   "cell_type": "code",
   "execution_count": 9,
   "metadata": {},
   "outputs": [
    {
     "name": "stderr",
     "output_type": "stream",
     "text": [
      "/anaconda/lib/python3.6/site-packages/statsmodels/compat/pandas.py:56: FutureWarning: The pandas.core.datetools module is deprecated and will be removed in a future version. Please use the pandas.tseries module instead.\n",
      "  from pandas.core import datetools\n"
     ]
    }
   ],
   "source": [
    "import statsmodels.api as sm\n",
    "import statsmodels.formula.api as smf"
   ]
  },
  {
   "cell_type": "code",
   "execution_count": 10,
   "metadata": {},
   "outputs": [
    {
     "data": {
      "text/html": [
       "<table class=\"simpletable\">\n",
       "<caption>Generalized Linear Model Regression Results</caption>\n",
       "<tr>\n",
       "  <th>Dep. Variable:</th>        <td>goals</td>      <th>  No. Observations:  </th>  <td>   740</td> \n",
       "</tr>\n",
       "<tr>\n",
       "  <th>Model:</th>                 <td>GLM</td>       <th>  Df Residuals:      </th>  <td>   700</td> \n",
       "</tr>\n",
       "<tr>\n",
       "  <th>Model Family:</th>        <td>Poisson</td>     <th>  Df Model:          </th>  <td>    39</td> \n",
       "</tr>\n",
       "<tr>\n",
       "  <th>Link Function:</th>         <td>log</td>       <th>  Scale:             </th>    <td>1.0</td>  \n",
       "</tr>\n",
       "<tr>\n",
       "  <th>Method:</th>               <td>IRLS</td>       <th>  Log-Likelihood:    </th> <td> -1042.4</td>\n",
       "</tr>\n",
       "<tr>\n",
       "  <th>Date:</th>           <td>Tue, 21 Nov 2017</td> <th>  Deviance:          </th> <td>  776.11</td>\n",
       "</tr>\n",
       "<tr>\n",
       "  <th>Time:</th>               <td>21:29:32</td>     <th>  Pearson chi2:      </th>  <td>  659.</td> \n",
       "</tr>\n",
       "<tr>\n",
       "  <th>No. Iterations:</th>         <td>5</td>        <th>                     </th>     <td> </td>   \n",
       "</tr>\n",
       "</table>\n",
       "<table class=\"simpletable\">\n",
       "<tr>\n",
       "               <td></td>                 <th>coef</th>     <th>std err</th>      <th>z</th>      <th>P>|z|</th>  <th>[0.025</th>    <th>0.975]</th>  \n",
       "</tr>\n",
       "<tr>\n",
       "  <th>Intercept</th>                  <td>    0.3725</td> <td>    0.198</td> <td>    1.880</td> <td> 0.060</td> <td>   -0.016</td> <td>    0.761</td>\n",
       "</tr>\n",
       "<tr>\n",
       "  <th>team[T.Bournemouth]</th>        <td>   -0.2891</td> <td>    0.179</td> <td>   -1.612</td> <td> 0.107</td> <td>   -0.641</td> <td>    0.062</td>\n",
       "</tr>\n",
       "<tr>\n",
       "  <th>team[T.Burnley]</th>            <td>   -0.6458</td> <td>    0.200</td> <td>   -3.230</td> <td> 0.001</td> <td>   -1.038</td> <td>   -0.254</td>\n",
       "</tr>\n",
       "<tr>\n",
       "  <th>team[T.Chelsea]</th>            <td>    0.0789</td> <td>    0.162</td> <td>    0.488</td> <td> 0.626</td> <td>   -0.238</td> <td>    0.396</td>\n",
       "</tr>\n",
       "<tr>\n",
       "  <th>team[T.Crystal Palace]</th>     <td>   -0.3865</td> <td>    0.183</td> <td>   -2.107</td> <td> 0.035</td> <td>   -0.746</td> <td>   -0.027</td>\n",
       "</tr>\n",
       "<tr>\n",
       "  <th>team[T.Everton]</th>            <td>   -0.2008</td> <td>    0.173</td> <td>   -1.161</td> <td> 0.246</td> <td>   -0.540</td> <td>    0.138</td>\n",
       "</tr>\n",
       "<tr>\n",
       "  <th>team[T.Hull]</th>               <td>   -0.7006</td> <td>    0.204</td> <td>   -3.441</td> <td> 0.001</td> <td>   -1.100</td> <td>   -0.302</td>\n",
       "</tr>\n",
       "<tr>\n",
       "  <th>team[T.Leicester]</th>          <td>   -0.4204</td> <td>    0.187</td> <td>   -2.249</td> <td> 0.025</td> <td>   -0.787</td> <td>   -0.054</td>\n",
       "</tr>\n",
       "<tr>\n",
       "  <th>team[T.Liverpool]</th>          <td>    0.0162</td> <td>    0.164</td> <td>    0.099</td> <td> 0.921</td> <td>   -0.306</td> <td>    0.338</td>\n",
       "</tr>\n",
       "<tr>\n",
       "  <th>team[T.Man City]</th>           <td>    0.0117</td> <td>    0.164</td> <td>    0.072</td> <td> 0.943</td> <td>   -0.310</td> <td>    0.334</td>\n",
       "</tr>\n",
       "<tr>\n",
       "  <th>team[T.Man United]</th>         <td>   -0.3572</td> <td>    0.181</td> <td>   -1.971</td> <td> 0.049</td> <td>   -0.713</td> <td>   -0.002</td>\n",
       "</tr>\n",
       "<tr>\n",
       "  <th>team[T.Middlesbrough]</th>      <td>   -1.0087</td> <td>    0.225</td> <td>   -4.481</td> <td> 0.000</td> <td>   -1.450</td> <td>   -0.568</td>\n",
       "</tr>\n",
       "<tr>\n",
       "  <th>team[T.Southampton]</th>        <td>   -0.5804</td> <td>    0.195</td> <td>   -2.976</td> <td> 0.003</td> <td>   -0.963</td> <td>   -0.198</td>\n",
       "</tr>\n",
       "<tr>\n",
       "  <th>team[T.Stoke]</th>              <td>   -0.6082</td> <td>    0.197</td> <td>   -3.094</td> <td> 0.002</td> <td>   -0.994</td> <td>   -0.223</td>\n",
       "</tr>\n",
       "<tr>\n",
       "  <th>team[T.Sunderland]</th>         <td>   -0.9619</td> <td>    0.222</td> <td>   -4.329</td> <td> 0.000</td> <td>   -1.397</td> <td>   -0.526</td>\n",
       "</tr>\n",
       "<tr>\n",
       "  <th>team[T.Swansea]</th>            <td>   -0.5136</td> <td>    0.192</td> <td>   -2.673</td> <td> 0.008</td> <td>   -0.890</td> <td>   -0.137</td>\n",
       "</tr>\n",
       "<tr>\n",
       "  <th>team[T.Tottenham]</th>          <td>    0.0532</td> <td>    0.162</td> <td>    0.328</td> <td> 0.743</td> <td>   -0.265</td> <td>    0.371</td>\n",
       "</tr>\n",
       "<tr>\n",
       "  <th>team[T.Watford]</th>            <td>   -0.5969</td> <td>    0.197</td> <td>   -3.035</td> <td> 0.002</td> <td>   -0.982</td> <td>   -0.211</td>\n",
       "</tr>\n",
       "<tr>\n",
       "  <th>team[T.West Brom]</th>          <td>   -0.5567</td> <td>    0.194</td> <td>   -2.876</td> <td> 0.004</td> <td>   -0.936</td> <td>   -0.177</td>\n",
       "</tr>\n",
       "<tr>\n",
       "  <th>team[T.West Ham]</th>           <td>   -0.4802</td> <td>    0.189</td> <td>   -2.535</td> <td> 0.011</td> <td>   -0.851</td> <td>   -0.109</td>\n",
       "</tr>\n",
       "<tr>\n",
       "  <th>opponent[T.Bournemouth]</th>    <td>    0.4109</td> <td>    0.196</td> <td>    2.092</td> <td> 0.036</td> <td>    0.026</td> <td>    0.796</td>\n",
       "</tr>\n",
       "<tr>\n",
       "  <th>opponent[T.Burnley]</th>        <td>    0.1657</td> <td>    0.206</td> <td>    0.806</td> <td> 0.420</td> <td>   -0.237</td> <td>    0.569</td>\n",
       "</tr>\n",
       "<tr>\n",
       "  <th>opponent[T.Chelsea]</th>        <td>   -0.3036</td> <td>    0.234</td> <td>   -1.298</td> <td> 0.194</td> <td>   -0.762</td> <td>    0.155</td>\n",
       "</tr>\n",
       "<tr>\n",
       "  <th>opponent[T.Crystal Palace]</th> <td>    0.3287</td> <td>    0.200</td> <td>    1.647</td> <td> 0.100</td> <td>   -0.062</td> <td>    0.720</td>\n",
       "</tr>\n",
       "<tr>\n",
       "  <th>opponent[T.Everton]</th>        <td>   -0.0442</td> <td>    0.218</td> <td>   -0.202</td> <td> 0.840</td> <td>   -0.472</td> <td>    0.384</td>\n",
       "</tr>\n",
       "<tr>\n",
       "  <th>opponent[T.Hull]</th>           <td>    0.4979</td> <td>    0.193</td> <td>    2.585</td> <td> 0.010</td> <td>    0.120</td> <td>    0.875</td>\n",
       "</tr>\n",
       "<tr>\n",
       "  <th>opponent[T.Leicester]</th>      <td>    0.3369</td> <td>    0.199</td> <td>    1.694</td> <td> 0.090</td> <td>   -0.053</td> <td>    0.727</td>\n",
       "</tr>\n",
       "<tr>\n",
       "  <th>opponent[T.Liverpool]</th>      <td>   -0.0374</td> <td>    0.217</td> <td>   -0.172</td> <td> 0.863</td> <td>   -0.463</td> <td>    0.389</td>\n",
       "</tr>\n",
       "<tr>\n",
       "  <th>opponent[T.Man City]</th>       <td>   -0.0993</td> <td>    0.222</td> <td>   -0.448</td> <td> 0.654</td> <td>   -0.534</td> <td>    0.335</td>\n",
       "</tr>\n",
       "<tr>\n",
       "  <th>opponent[T.Man United]</th>     <td>   -0.4220</td> <td>    0.241</td> <td>   -1.754</td> <td> 0.079</td> <td>   -0.894</td> <td>    0.050</td>\n",
       "</tr>\n",
       "<tr>\n",
       "  <th>opponent[T.Middlesbrough]</th>  <td>    0.1196</td> <td>    0.208</td> <td>    0.574</td> <td> 0.566</td> <td>   -0.289</td> <td>    0.528</td>\n",
       "</tr>\n",
       "<tr>\n",
       "  <th>opponent[T.Southampton]</th>    <td>    0.0458</td> <td>    0.211</td> <td>    0.217</td> <td> 0.828</td> <td>   -0.369</td> <td>    0.460</td>\n",
       "</tr>\n",
       "<tr>\n",
       "  <th>opponent[T.Stoke]</th>          <td>    0.2266</td> <td>    0.203</td> <td>    1.115</td> <td> 0.265</td> <td>   -0.172</td> <td>    0.625</td>\n",
       "</tr>\n",
       "<tr>\n",
       "  <th>opponent[T.Sunderland]</th>     <td>    0.3707</td> <td>    0.198</td> <td>    1.876</td> <td> 0.061</td> <td>   -0.017</td> <td>    0.758</td>\n",
       "</tr>\n",
       "<tr>\n",
       "  <th>opponent[T.Swansea]</th>        <td>    0.4336</td> <td>    0.195</td> <td>    2.227</td> <td> 0.026</td> <td>    0.052</td> <td>    0.815</td>\n",
       "</tr>\n",
       "<tr>\n",
       "  <th>opponent[T.Tottenham]</th>      <td>   -0.5431</td> <td>    0.252</td> <td>   -2.156</td> <td> 0.031</td> <td>   -1.037</td> <td>   -0.049</td>\n",
       "</tr>\n",
       "<tr>\n",
       "  <th>opponent[T.Watford]</th>        <td>    0.3533</td> <td>    0.198</td> <td>    1.782</td> <td> 0.075</td> <td>   -0.035</td> <td>    0.742</td>\n",
       "</tr>\n",
       "<tr>\n",
       "  <th>opponent[T.West Brom]</th>      <td>    0.0970</td> <td>    0.209</td> <td>    0.463</td> <td> 0.643</td> <td>   -0.313</td> <td>    0.507</td>\n",
       "</tr>\n",
       "<tr>\n",
       "  <th>opponent[T.West Ham]</th>       <td>    0.3485</td> <td>    0.198</td> <td>    1.758</td> <td> 0.079</td> <td>   -0.040</td> <td>    0.737</td>\n",
       "</tr>\n",
       "<tr>\n",
       "  <th>home</th>                       <td>    0.2969</td> <td>    0.063</td> <td>    4.702</td> <td> 0.000</td> <td>    0.173</td> <td>    0.421</td>\n",
       "</tr>\n",
       "</table>"
      ],
      "text/plain": [
       "<class 'statsmodels.iolib.summary.Summary'>\n",
       "\"\"\"\n",
       "                 Generalized Linear Model Regression Results                  \n",
       "==============================================================================\n",
       "Dep. Variable:                  goals   No. Observations:                  740\n",
       "Model:                            GLM   Df Residuals:                      700\n",
       "Model Family:                 Poisson   Df Model:                           39\n",
       "Link Function:                    log   Scale:                             1.0\n",
       "Method:                          IRLS   Log-Likelihood:                -1042.4\n",
       "Date:                Tue, 21 Nov 2017   Deviance:                       776.11\n",
       "Time:                        21:29:32   Pearson chi2:                     659.\n",
       "No. Iterations:                     5                                         \n",
       "==============================================================================================\n",
       "                                 coef    std err          z      P>|z|      [0.025      0.975]\n",
       "----------------------------------------------------------------------------------------------\n",
       "Intercept                      0.3725      0.198      1.880      0.060      -0.016       0.761\n",
       "team[T.Bournemouth]           -0.2891      0.179     -1.612      0.107      -0.641       0.062\n",
       "team[T.Burnley]               -0.6458      0.200     -3.230      0.001      -1.038      -0.254\n",
       "team[T.Chelsea]                0.0789      0.162      0.488      0.626      -0.238       0.396\n",
       "team[T.Crystal Palace]        -0.3865      0.183     -2.107      0.035      -0.746      -0.027\n",
       "team[T.Everton]               -0.2008      0.173     -1.161      0.246      -0.540       0.138\n",
       "team[T.Hull]                  -0.7006      0.204     -3.441      0.001      -1.100      -0.302\n",
       "team[T.Leicester]             -0.4204      0.187     -2.249      0.025      -0.787      -0.054\n",
       "team[T.Liverpool]              0.0162      0.164      0.099      0.921      -0.306       0.338\n",
       "team[T.Man City]               0.0117      0.164      0.072      0.943      -0.310       0.334\n",
       "team[T.Man United]            -0.3572      0.181     -1.971      0.049      -0.713      -0.002\n",
       "team[T.Middlesbrough]         -1.0087      0.225     -4.481      0.000      -1.450      -0.568\n",
       "team[T.Southampton]           -0.5804      0.195     -2.976      0.003      -0.963      -0.198\n",
       "team[T.Stoke]                 -0.6082      0.197     -3.094      0.002      -0.994      -0.223\n",
       "team[T.Sunderland]            -0.9619      0.222     -4.329      0.000      -1.397      -0.526\n",
       "team[T.Swansea]               -0.5136      0.192     -2.673      0.008      -0.890      -0.137\n",
       "team[T.Tottenham]              0.0532      0.162      0.328      0.743      -0.265       0.371\n",
       "team[T.Watford]               -0.5969      0.197     -3.035      0.002      -0.982      -0.211\n",
       "team[T.West Brom]             -0.5567      0.194     -2.876      0.004      -0.936      -0.177\n",
       "team[T.West Ham]              -0.4802      0.189     -2.535      0.011      -0.851      -0.109\n",
       "opponent[T.Bournemouth]        0.4109      0.196      2.092      0.036       0.026       0.796\n",
       "opponent[T.Burnley]            0.1657      0.206      0.806      0.420      -0.237       0.569\n",
       "opponent[T.Chelsea]           -0.3036      0.234     -1.298      0.194      -0.762       0.155\n",
       "opponent[T.Crystal Palace]     0.3287      0.200      1.647      0.100      -0.062       0.720\n",
       "opponent[T.Everton]           -0.0442      0.218     -0.202      0.840      -0.472       0.384\n",
       "opponent[T.Hull]               0.4979      0.193      2.585      0.010       0.120       0.875\n",
       "opponent[T.Leicester]          0.3369      0.199      1.694      0.090      -0.053       0.727\n",
       "opponent[T.Liverpool]         -0.0374      0.217     -0.172      0.863      -0.463       0.389\n",
       "opponent[T.Man City]          -0.0993      0.222     -0.448      0.654      -0.534       0.335\n",
       "opponent[T.Man United]        -0.4220      0.241     -1.754      0.079      -0.894       0.050\n",
       "opponent[T.Middlesbrough]      0.1196      0.208      0.574      0.566      -0.289       0.528\n",
       "opponent[T.Southampton]        0.0458      0.211      0.217      0.828      -0.369       0.460\n",
       "opponent[T.Stoke]              0.2266      0.203      1.115      0.265      -0.172       0.625\n",
       "opponent[T.Sunderland]         0.3707      0.198      1.876      0.061      -0.017       0.758\n",
       "opponent[T.Swansea]            0.4336      0.195      2.227      0.026       0.052       0.815\n",
       "opponent[T.Tottenham]         -0.5431      0.252     -2.156      0.031      -1.037      -0.049\n",
       "opponent[T.Watford]            0.3533      0.198      1.782      0.075      -0.035       0.742\n",
       "opponent[T.West Brom]          0.0970      0.209      0.463      0.643      -0.313       0.507\n",
       "opponent[T.West Ham]           0.3485      0.198      1.758      0.079      -0.040       0.737\n",
       "home                           0.2969      0.063      4.702      0.000       0.173       0.421\n",
       "==============================================================================================\n",
       "\"\"\""
      ]
     },
     "execution_count": 10,
     "metadata": {},
     "output_type": "execute_result"
    }
   ],
   "source": [
    "goal_model_data = pd.concat([epl_1617[['HomeTeam','AwayTeam','HomeGoals']].assign(home=1).rename(\n",
    "            columns={'HomeTeam':'team', 'AwayTeam':'opponent','HomeGoals':'goals'}),\n",
    "           epl_1617[['AwayTeam','HomeTeam','AwayGoals']].assign(home=0).rename(\n",
    "            columns={'AwayTeam':'team', 'HomeTeam':'opponent','AwayGoals':'goals'})])\n",
    "\n",
    "poisson_model = smf.glm(formula=\"goals ~ home + team + opponent\", data=goal_model_data, \n",
    "                        family=sm.families.Poisson()).fit()\n",
    "poisson_model.summary()"
   ]
  },
  {
   "cell_type": "markdown",
   "metadata": {},
   "source": [
    "Considering the table above the most interesting aspect is the coefficient (exponent of the parameter values) column, which corresponds to the slope of the linear regression. This means a value close to 0 is a very neutral effect ( $ e^0 = 1 $). The last row shows the home team coefficient of 0.2969, which means that the home team is more likely to score goals than the away team ( $ e^0.2969 = 1.35 $ time more likely).  When we compare two team for example Chelsea (0.0789) and West Brom (-0.5567) the coefficient value tells us that Chalsea scores more goals than the average while West Brom scores less goals than the average. \n",
    "\n",
    "The second half ot the table shows the opponent* values. Those values either penalize or reward a team. Those vales take into consideration the defensice strenght of a team. If a team plays against Chelsea for example it will get penalized by 0.3036. "
   ]
  },
  {
   "cell_type": "markdown",
   "metadata": {},
   "source": [
    "In order to predict a game we first have to calculate the expected average number of goals scored by each team considering the the opponents defensive strength. In this case the next Chelsea game in 16/17 is against Sunderland."
   ]
  },
  {
   "cell_type": "code",
   "execution_count": 11,
   "metadata": {},
   "outputs": [
    {
     "data": {
      "text/plain": [
       "1    3.061662\n",
       "dtype: float64"
      ]
     },
     "execution_count": 11,
     "metadata": {},
     "output_type": "execute_result"
    }
   ],
   "source": [
    "poisson_model.predict(pd.DataFrame(data={'team': 'Chelsea', 'opponent': 'Sunderland',\n",
    "                                       'home':1},index=[1]))"
   ]
  },
  {
   "cell_type": "code",
   "execution_count": 12,
   "metadata": {},
   "outputs": [
    {
     "data": {
      "text/plain": [
       "1    0.409373\n",
       "dtype: float64"
      ]
     },
     "execution_count": 12,
     "metadata": {},
     "output_type": "execute_result"
    }
   ],
   "source": [
    "poisson_model.predict(pd.DataFrame(data={'team': 'Sunderland', 'opponent': 'Chelsea',\n",
    "                                       'home':0},index=[1]))"
   ]
  },
  {
   "cell_type": "markdown",
   "metadata": {},
   "source": [
    "We can now use those two Poisson distributions to predict multiple scores of the game. For visulization reasons we choose every possible score with max. 3 goals for each team."
   ]
  },
  {
   "cell_type": "code",
   "execution_count": 13,
   "metadata": {
    "collapsed": true
   },
   "outputs": [],
   "source": [
    "def simulate_match(foot_model, homeTeam, awayTeam, max_goals=10):\n",
    "    home_goals_avg = foot_model.predict(pd.DataFrame(data={'team': homeTeam, \n",
    "                                                            'opponent': awayTeam,'home':1},\n",
    "                                                      index=[1])).values[0]\n",
    "    away_goals_avg = foot_model.predict(pd.DataFrame(data={'team': awayTeam, \n",
    "                                                            'opponent': homeTeam,'home':0},\n",
    "                                                      index=[1])).values[0]\n",
    "    team_pred = [[poisson.pmf(i, team_avg) for i in range(0, max_goals+1)] for team_avg in [home_goals_avg, away_goals_avg]]\n",
    "    return(np.outer(np.array(team_pred[0]), np.array(team_pred[1])))"
   ]
  },
  {
   "cell_type": "code",
   "execution_count": 14,
   "metadata": {},
   "outputs": [
    {
     "data": {
      "text/plain": [
       "array([[ 0.03108485,  0.01272529,  0.00260469,  0.00035543],\n",
       "       [ 0.0951713 ,  0.03896054,  0.00797469,  0.00108821],\n",
       "       [ 0.14569118,  0.059642  ,  0.01220791,  0.00166586],\n",
       "       [ 0.14868571,  0.06086788,  0.01245883,  0.0017001 ]])"
      ]
     },
     "execution_count": 14,
     "metadata": {},
     "output_type": "execute_result"
    }
   ],
   "source": [
    "simulate_match(poisson_model, 'Chelsea', 'Sunderland', max_goals=3)"
   ]
  },
  {
   "cell_type": "markdown",
   "metadata": {},
   "source": [
    "The diagonal (left top to right bottom) is the probability of all draws starting with 0:0 in the top left corner. All the probabilities of wins for chelesa are loacted in the bottom left trilangular matrix while Sunderlands wins are located in the top right. The matrix is organized in the following way considering Chelese goals:Sunderland goals \n",
    "\n",
    "$$ \\begin{bmatrix} 0:0 & 0:1 & 0:2 & 0:3 \\\\\n",
    "1:0 & 1:1 & 1:2 & 1:3 \\\\\n",
    "2:0 & 2:1 & 2:2 & 2:3 \\\\\n",
    "3:0 & 3:1 & 3:2 & 3:3 \\end{bmatrix} $$"
   ]
  },
  {
   "cell_type": "markdown",
   "metadata": {},
   "source": [
    "To predict the probabilities of win, draw, and loss from chelseas perspective you can just sum up the values of lover triangel, diagonal, upper triangle respectively."
   ]
  },
  {
   "cell_type": "code",
   "execution_count": 15,
   "metadata": {
    "collapsed": true
   },
   "outputs": [],
   "source": [
    "chel_sun = simulate_match(poisson_model, \"Chelsea\", \"Sunderland\", max_goals=10)"
   ]
  },
  {
   "cell_type": "code",
   "execution_count": 16,
   "metadata": {},
   "outputs": [
    {
     "data": {
      "text/plain": [
       "0.88859866123641451"
      ]
     },
     "execution_count": 16,
     "metadata": {},
     "output_type": "execute_result"
    }
   ],
   "source": [
    "# chelsea win\n",
    "np.sum(np.tril(chel_sun, -1))"
   ]
  },
  {
   "cell_type": "code",
   "execution_count": 17,
   "metadata": {},
   "outputs": [
    {
     "data": {
      "text/plain": [
       "0.084093492686495269"
      ]
     },
     "execution_count": 17,
     "metadata": {},
     "output_type": "execute_result"
    }
   ],
   "source": [
    "# draw\n",
    "np.sum(np.diag(chel_sun))"
   ]
  },
  {
   "cell_type": "code",
   "execution_count": 18,
   "metadata": {},
   "outputs": [
    {
     "data": {
      "text/plain": [
       "0.026961819942852801"
      ]
     },
     "execution_count": 18,
     "metadata": {},
     "output_type": "execute_result"
    }
   ],
   "source": [
    "# sunderland win\n",
    "np.sum(np.triu(chel_sun, 1))"
   ]
  },
  {
   "cell_type": "markdown",
   "metadata": {},
   "source": [
    "## Prediction and betting simulation for last 10 games of season 2016/2017"
   ]
  },
  {
   "cell_type": "markdown",
   "metadata": {},
   "source": [
    "For this simulation I will bet every time the away of home team wins with a probability P > 0.55. The simulation will assume that we bet the same part of x dollars on each game."
   ]
  },
  {
   "cell_type": "code",
   "execution_count": 71,
   "metadata": {
    "collapsed": true
   },
   "outputs": [],
   "source": [
    "def simulate(season, x):\n",
    "    \n",
    "    epl = pd.read_csv(\"http://www.football-data.co.uk/mmz4281/{}/E0.csv\".format(season))\n",
    "    epl = epl[['HomeTeam','AwayTeam','FTHG','FTAG', 'FTR', 'B365H', 'B365A']]\n",
    "    epl = epl.rename(columns={'FTHG': 'HomeGoals', 'FTAG': 'AwayGoals' , 'FTR' : 'Winner'})\n",
    "    goal_model_data = pd.concat([epl[['HomeTeam','AwayTeam','HomeGoals']].assign(home=1).rename(\n",
    "            columns={'HomeTeam':'team', 'AwayTeam':'opponent','HomeGoals':'goals'}),\n",
    "           epl[['AwayTeam','HomeTeam','AwayGoals']].assign(home=0).rename(\n",
    "            columns={'AwayTeam':'team', 'HomeTeam':'opponent','AwayGoals':'goals'})])\n",
    "\n",
    "    poisson_model = smf.glm(formula=\"goals ~ home + team + opponent\", data=goal_model_data, \n",
    "                            family=sm.families.Poisson()).fit()\n",
    "    \n",
    "    epl_matches = epl[['HomeTeam','AwayTeam']]\n",
    "    epl_matches = epl_matches[-10:]\n",
    "    epl_winner = epl[['Winner']]\n",
    "    epl_odds = epl[['B365H', 'B365A']]\n",
    "\n",
    "    #model lists\n",
    "    bets = []\n",
    "    results = []\n",
    "    odds = []\n",
    "    \n",
    "    #bookies litst\n",
    "    bookies_bets = []\n",
    "    bookies_results = []\n",
    "    bookies_odds = []\n",
    "    \n",
    "    #initial values\n",
    "    payout = 0\n",
    "    bookies_payout = 0\n",
    "    model_wins = 0\n",
    "    bookies_wins = 0\n",
    "    \n",
    "    for i in range(371,380):\n",
    "        matrix = simulate_match(poisson_model, epl_matches['HomeTeam'][i], epl_matches['AwayTeam'][i], max_goals=10)\n",
    "        home_win = np.sum(np.tril(matrix, -1))\n",
    "        draw = np.sum(np.diag(matrix))\n",
    "        away_win = np.sum(np.triu(matrix, 1))\n",
    "        if home_win > 0.55:\n",
    "            bets.append('H')\n",
    "            results.append(epl_winner['Winner'][i])\n",
    "            odds.append((float)(epl_odds['B365H'][i]))\n",
    "            if (epl_odds['B365H'][i] < epl_odds['B365A'][i] and epl_winner['Winner'][i] == 'H'):\n",
    "                model_wins += 1\n",
    "            if (epl_odds['B365H'][i] < epl_odds['B365A'][i] and epl_winner['Winner'][i] == 'A'):  \n",
    "                bookies_wins += 1 \n",
    "        elif away_win > 0.55:\n",
    "            bets.append('A')\n",
    "            results.append(epl_winner['Winner'][i])\n",
    "            odds.append((float)(epl_odds['B365A'][i]))\n",
    "            if (epl_odds['B365H'][i] > epl_odds['B365A'][i] and epl_winner['Winner'][i] == 'A'):\n",
    "                model_wins += 1\n",
    "            if (epl_odds['B365H'][i] > epl_odds['B365A'][i] and epl_winner['Winner'][i] == 'H'):\n",
    "                bookies_wins += 1\n",
    "        if 1/epl_odds['B365H'][i] > 0.55:\n",
    "            bookies_bets.append('H')\n",
    "            bookies_results.append(epl_winner['Winner'][i])\n",
    "            bookies_odds.append((float)(epl_odds['B365H'][i]))\n",
    "        elif 1/epl_odds['B365A'][i] > 0.55:\n",
    "            bookies_bets.append('A')\n",
    "            bookies_results.append(epl_winner['Winner'][i])\n",
    "            bookies_odds.append((float)(epl_odds['B365A'][i]))\n",
    "\n",
    "    for k in range(0, len(bets)):\n",
    "        if bets[k] == results[k]:\n",
    "            payout += (odds[k]*(x/len(bets)))\n",
    "        else:\n",
    "            payout -= x/len(bets)\n",
    "            \n",
    "    for m in range(0, len(bookies_bets)):       \n",
    "        if bookies_bets[m] == bookies_results[m]:\n",
    "            bookies_payout += (bookies_odds[m]*(x/len(bookies_bets)))\n",
    "        else:\n",
    "            bookies_payout -= x/len(bookies_bets)\n",
    "        \n",
    "    \n",
    "    print(\"Model predicted right outcome when Bookies predicted wrong outcome in season {}: {}\".format(season,model_wins))\n",
    "    print(\"Bookies predicted right outcome when Model predicted wrong outcome in season {}: {}\".format(season,bookies_wins))\n",
    "    \n",
    "    return [payout, bookies_payout]"
   ]
  },
  {
   "cell_type": "code",
   "execution_count": 40,
   "metadata": {},
   "outputs": [
    {
     "name": "stdout",
     "output_type": "stream",
     "text": [
      "Model wins season 1617: 5\n",
      "Bookies wins season 1617: 0\n",
      "Total payout for season 1617 is 1516.0 and the win is 51.6%\n"
     ]
    }
   ],
   "source": [
    "#simulate last 10 games of season 16/17\n",
    "x = 1000\n",
    "season = '1617'\n",
    "total_payout = simulate(season, x)[0]\n",
    "win_percent = ((total_payout / x) - 1)*100\n",
    "\n",
    "print('Total payout for season {} is {} and the win is {}%'.format(season, total_payout, win_percent))"
   ]
  },
  {
   "cell_type": "code",
   "execution_count": 41,
   "metadata": {},
   "outputs": [
    {
     "name": "stdout",
     "output_type": "stream",
     "text": [
      "Model wins season 1516: 3\n",
      "Bookies wins season 1516: 1\n",
      "Total payout for season 1516 is 957.5 and the win is -4.249999999999998%\n"
     ]
    }
   ],
   "source": [
    "#simulate last 10 games of season 15/16\n",
    "x = 1000\n",
    "season = '1516'\n",
    "total_payout = simulate(season, x)[0]\n",
    "win_percent = ((total_payout / x) - 1)*100\n",
    "\n",
    "print('Total payout for season {} is {} and the win is {}%'.format(season, total_payout, win_percent))"
   ]
  },
  {
   "cell_type": "code",
   "execution_count": 42,
   "metadata": {},
   "outputs": [
    {
     "name": "stdout",
     "output_type": "stream",
     "text": [
      "Model wins season 1415: 2\n",
      "Bookies wins season 1415: 0\n",
      "Total payout for season 1415 is 1480.0 and the win is 48.0%\n"
     ]
    }
   ],
   "source": [
    "#simulate last 10 games of season 14/15\n",
    "x = 1000\n",
    "season = '1415'\n",
    "total_payout = simulate(season, x)[0]\n",
    "win_percent = ((total_payout / x) - 1)*100\n",
    "\n",
    "print('Total payout for season {} is {} and the win is {}%'.format(season, total_payout, win_percent))"
   ]
  },
  {
   "cell_type": "code",
   "execution_count": 43,
   "metadata": {},
   "outputs": [
    {
     "name": "stdout",
     "output_type": "stream",
     "text": [
      "Model wins season 1314: 4\n",
      "Bookies wins season 1314: 0\n",
      "Total payout for season 1314 is 1435.0 and the win is 43.50000000000001%\n"
     ]
    }
   ],
   "source": [
    "#simulate last 10 games of season 13/14\n",
    "x = 1000\n",
    "season = '1314'\n",
    "total_payout = simulate(season, x)[0]\n",
    "win_percent = ((total_payout / x) - 1)*100\n",
    "\n",
    "print('Total payout for season {} is {} and the win is {}%'.format(season, total_payout, win_percent))"
   ]
  },
  {
   "cell_type": "code",
   "execution_count": 45,
   "metadata": {},
   "outputs": [
    {
     "name": "stdout",
     "output_type": "stream",
     "text": [
      "Model wins season 1213: 4\n",
      "Bookies wins season 1213: 1\n",
      "Total payout for season 1213 is 626.6666666666667 and the win is -37.33333333333333%\n"
     ]
    }
   ],
   "source": [
    "#simulate last 10 games of season 12/13\n",
    "x = 1000\n",
    "season = '1213'\n",
    "total_payout = simulate(season, x)[0]\n",
    "win_percent = ((total_payout / x) - 1)*100\n",
    "\n",
    "print('Total payout for season {} is {} and the win is {}%'.format(season, total_payout, win_percent))"
   ]
  },
  {
   "cell_type": "code",
   "execution_count": 72,
   "metadata": {},
   "outputs": [
    {
     "name": "stdout",
     "output_type": "stream",
     "text": [
      "Model predicted right outcome when Bookies predicted wrong outcome in season 0708: 4\n",
      "Bookies predicted right outcome when Model predicted wrong outcome in season 0708: 0\n",
      "Model predicted right outcome when Bookies predicted wrong outcome in season 0809: 6\n",
      "Bookies predicted right outcome when Model predicted wrong outcome in season 0809: 0\n",
      "Model predicted right outcome when Bookies predicted wrong outcome in season 0910: 3\n",
      "Bookies predicted right outcome when Model predicted wrong outcome in season 0910: 2\n",
      "Model predicted right outcome when Bookies predicted wrong outcome in season 1011: 2\n",
      "Bookies predicted right outcome when Model predicted wrong outcome in season 1011: 0\n",
      "Model predicted right outcome when Bookies predicted wrong outcome in season 1112: 4\n",
      "Bookies predicted right outcome when Model predicted wrong outcome in season 1112: 0\n",
      "Model predicted right outcome when Bookies predicted wrong outcome in season 1213: 4\n",
      "Bookies predicted right outcome when Model predicted wrong outcome in season 1213: 1\n",
      "Model predicted right outcome when Bookies predicted wrong outcome in season 1314: 4\n",
      "Bookies predicted right outcome when Model predicted wrong outcome in season 1314: 0\n",
      "Model predicted right outcome when Bookies predicted wrong outcome in season 1415: 2\n",
      "Bookies predicted right outcome when Model predicted wrong outcome in season 1415: 0\n",
      "Model predicted right outcome when Bookies predicted wrong outcome in season 1516: 3\n",
      "Bookies predicted right outcome when Model predicted wrong outcome in season 1516: 1\n",
      "Model predicted right outcome when Bookies predicted wrong outcome in season 1617: 5\n",
      "Bookies predicted right outcome when Model predicted wrong outcome in season 1617: 0\n",
      "Total payout over 10 seasons is: 504.33333333333394\n",
      "This is 5.043333333333339%\n",
      "Total bookies payout over 10 seasons is: 429.6190476190477\n",
      "This is 4.2961904761904774%\n"
     ]
    },
    {
     "data": {
      "image/png": "[encoded data removed]",
      "text/plain": [
       "<matplotlib.figure.Figure at 0x120341ac8>"
      ]
     },
     "metadata": {},
     "output_type": "display_data"
    },
    {
     "data": {
      "image/png": "[encoded data removed]",
      "text/plain": [
       "<matplotlib.figure.Figure at 0x120a25588>"
      ]
     },
     "metadata": {},
     "output_type": "display_data"
    }
   ],
   "source": [
    "payouts = []\n",
    "bookies_payouts = []\n",
    "x = 1000\n",
    "\n",
    "for i in range(708,1718,101):\n",
    "    if i < 1011:\n",
    "        simu = simulate('0'+str(i),x)\n",
    "        payouts.append(simu[0])\n",
    "        bookies_payouts.append(simu[1])\n",
    "    else:\n",
    "        simu = simulate(str(i),x)\n",
    "        payouts.append(simu[0])\n",
    "        bookies_payouts.append(simu[1])\n",
    "\n",
    "print(\"Total payout over 10 seasons is: {}\".format(np.sum(payouts)-(x*len(payouts))))\n",
    "print(\"This is {}%\".format(((np.sum(payouts)-(x*len(payouts)))*100)/(x*len(payouts))))\n",
    "\n",
    "print(\"Total bookies payout over 10 seasons is: {}\".format(np.sum(bookies_payouts)-(x*len(bookies_payouts))))\n",
    "print(\"This is {}%\".format(((np.sum(bookies_payouts)-(x*len(bookies_payouts)))*100)/(x*len(bookies_payouts))))\n",
    "\n",
    "x = np.arange(10)\n",
    "plt.bar(x, height= payouts, label='Payout', alpha=0.7)\n",
    "plt.xticks(x, ['07/08','08/09','09/10','10/11','11/12','12/13','13/14','14/15','15/16','16/17']);\n",
    "plt.legend(loc='upper right', fontsize=15)\n",
    "plt.xlabel(\"Seasons\",size=13)\n",
    "plt.ylabel(\"Total payout\",size=13)\n",
    "plt.title(\"Payouts for different seasons\",size=14,fontweight='bold')\n",
    "plt.tight_layout()\n",
    "plt.ylim(0,2200)\n",
    "plt.show()\n",
    "\n",
    "x = np.arange(10)\n",
    "plt.bar(x, height= bookies_payouts, label='Bookies Payout', alpha=0.7)\n",
    "plt.xticks(x, ['07/08','08/09','09/10','10/11','11/12','12/13','13/14','14/15','15/16','16/17']);\n",
    "plt.legend(loc='upper right', fontsize=15)\n",
    "plt.xlabel(\"Seasons\",size=13)\n",
    "plt.ylabel(\"Total payout\",size=13)\n",
    "plt.title(\"Bookies payouts for different seasons\",size=14,fontweight='bold')\n",
    "plt.tight_layout()\n",
    "plt.ylim(0,2200)\n",
    "plt.show()\n"
   ]
  },
  {
   "cell_type": "code",
   "execution_count": null,
   "metadata": {
    "collapsed": true
   },
   "outputs": [],
   "source": []
  }
 ],
 "metadata": {
  "kernelspec": {
   "display_name": "Python 3",
   "language": "python",
   "name": "python3"
  },
  "language_info": {
   "codemirror_mode": {
    "name": "ipython",
    "version": 3
   },
   "file_extension": ".py",
   "mimetype": "text/x-python",
   "name": "python",
   "nbconvert_exporter": "python",
   "pygments_lexer": "ipython3",
   "version": "3.6.1"
  }
 },
 "nbformat": 4,
 "nbformat_minor": 2
}
